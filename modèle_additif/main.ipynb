{
 "cells": [
  {
   "cell_type": "code",
   "execution_count": 8,
   "metadata": {},
   "outputs": [
    {
     "name": "stdout",
     "output_type": "stream",
     "text": [
      "sur le jeu de train : mean_train_absolute_error=0.00\n",
      "sur le jeu de test : mean_test_absolute_error=41.67\n"
     ]
    },
    {
     "ename": "NameError",
     "evalue": "name 'resid_std' is not defined",
     "output_type": "error",
     "traceback": [
      "\u001b[1;31m---------------------------------------------------------------------------\u001b[0m",
      "\u001b[1;31mNameError\u001b[0m                                 Traceback (most recent call last)",
      "Cell \u001b[1;32mIn[8], line 16\u001b[0m\n\u001b[0;32m     14\u001b[0m dataset_df \u001b[38;5;241m=\u001b[39m pd\u001b[38;5;241m.\u001b[39mread_csv(\u001b[38;5;124m'\u001b[39m\u001b[38;5;124mvente_maillots_de_bain.csv\u001b[39m\u001b[38;5;124m'\u001b[39m, encoding\u001b[38;5;241m=\u001b[39m\u001b[38;5;124m'\u001b[39m\u001b[38;5;124mISO-8859-1\u001b[39m\u001b[38;5;124m'\u001b[39m)\n\u001b[0;32m     15\u001b[0m data_preparation_object \u001b[38;5;241m=\u001b[39m DataPreparation(dataset_df)\n\u001b[1;32m---> 16\u001b[0m Additif_object \u001b[38;5;241m=\u001b[39m \u001b[43mAdditif\u001b[49m\u001b[43m(\u001b[49m\u001b[43mdata_preparation_object\u001b[49m\u001b[43m)\u001b[49m\n",
      "File \u001b[1;32mc:\\HETIC\\Maths\\projet-partiel\\projet_régression_linéaire\\additif.py:26\u001b[0m, in \u001b[0;36mAdditif.__init__\u001b[1;34m(self, data_preparation_object)\u001b[0m\n\u001b[0;32m     23\u001b[0m mean_test_absolute_error \u001b[38;5;241m=\u001b[39m np\u001b[38;5;241m.\u001b[39mmean(np\u001b[38;5;241m.\u001b[39mabs(y_test_predicted \u001b[38;5;241m-\u001b[39m data_preparation_object\u001b[38;5;241m.\u001b[39my_test))\n\u001b[0;32m     24\u001b[0m \u001b[38;5;28mprint\u001b[39m(\u001b[38;5;124mf\u001b[39m\u001b[38;5;124m\"\u001b[39m\u001b[38;5;124msur le jeu de test : \u001b[39m\u001b[38;5;132;01m{\u001b[39;00mmean_test_absolute_error\u001b[38;5;132;01m=:\u001b[39;00m\u001b[38;5;124m.2f\u001b[39m\u001b[38;5;132;01m}\u001b[39;00m\u001b[38;5;124m\"\u001b[39m)\n\u001b[1;32m---> 26\u001b[0m \u001b[38;5;28;43mself\u001b[39;49m\u001b[38;5;241;43m.\u001b[39;49m\u001b[43mshow_model_predictions\u001b[49m\u001b[43m(\u001b[49m\u001b[43my_train_predicted\u001b[49m\u001b[43m,\u001b[49m\u001b[43m \u001b[49m\u001b[43my_test_predicted\u001b[49m\u001b[43m)\u001b[49m\n",
      "File \u001b[1;32mc:\\HETIC\\Maths\\projet-partiel\\projet_régression_linéaire\\additif.py:41\u001b[0m, in \u001b[0;36mAdditif.show_model_predictions\u001b[1;34m(self, y_train_predicted, y_test_predicted)\u001b[0m\n\u001b[0;32m     33\u001b[0m \u001b[38;5;250m\u001b[39m\u001b[38;5;124;03m\"\"\"\u001b[39;00m\n\u001b[0;32m     34\u001b[0m \u001b[38;5;124;03mmodel = sm.OLS(self.data_preparation_object.y_train, sm.add_constant(self.data_preparation_object.x_train))\u001b[39;00m\n\u001b[0;32m     35\u001b[0m \u001b[38;5;124;03mresults = model.fit()\u001b[39;00m\n\u001b[1;32m   (...)\u001b[0m\n\u001b[0;32m     38\u001b[0m \u001b[38;5;124;03mmax_interval = pred_int[:, 1]\u001b[39;00m\n\u001b[0;32m     39\u001b[0m \u001b[38;5;124;03m\"\"\"\u001b[39;00m\n\u001b[0;32m     40\u001b[0m n \u001b[38;5;241m=\u001b[39m \u001b[38;5;28mlen\u001b[39m(y_test_predicted)\n\u001b[1;32m---> 41\u001b[0m interval \u001b[38;5;241m=\u001b[39m t\u001b[38;5;241m.\u001b[39mppf(\u001b[38;5;241m1\u001b[39m \u001b[38;5;241m-\u001b[39m (\u001b[38;5;241m1\u001b[39m \u001b[38;5;241m-\u001b[39m conf) \u001b[38;5;241m/\u001b[39m \u001b[38;5;241m2\u001b[39m, n \u001b[38;5;241m-\u001b[39m \u001b[38;5;241m2\u001b[39m) \u001b[38;5;241m*\u001b[39m \u001b[43mresid_std\u001b[49m \u001b[38;5;241m/\u001b[39m np\u001b[38;5;241m.\u001b[39msqrt(\u001b[38;5;241m1\u001b[39m\u001b[38;5;241m/\u001b[39mn \u001b[38;5;241m+\u001b[39m (np\u001b[38;5;241m.\u001b[39mmean(\u001b[38;5;28mself\u001b[39m\u001b[38;5;241m.\u001b[39mdata_preparation_object\u001b[38;5;241m.\u001b[39mx_test) \u001b[38;5;241m-\u001b[39m np\u001b[38;5;241m.\u001b[39mmean(\u001b[38;5;28mself\u001b[39m\u001b[38;5;241m.\u001b[39mdata_preparation_object\u001b[38;5;241m.\u001b[39mx_train))\u001b[38;5;241m*\u001b[39m\u001b[38;5;241m*\u001b[39m\u001b[38;5;241m2\u001b[39m \u001b[38;5;241m/\u001b[39m np\u001b[38;5;241m.\u001b[39msum((\u001b[38;5;28mself\u001b[39m\u001b[38;5;241m.\u001b[39mdata_preparation_object\u001b[38;5;241m.\u001b[39mx_train \u001b[38;5;241m-\u001b[39m np\u001b[38;5;241m.\u001b[39mmean(\u001b[38;5;28mself\u001b[39m\u001b[38;5;241m.\u001b[39mdata_preparation_object\u001b[38;5;241m.\u001b[39mx_train))\u001b[38;5;241m*\u001b[39m\u001b[38;5;241m*\u001b[39m\u001b[38;5;241m2\u001b[39m))\n\u001b[0;32m     42\u001b[0m min_interval \u001b[38;5;241m=\u001b[39m y_test_predicted \u001b[38;5;241m-\u001b[39m interval\n\u001b[0;32m     43\u001b[0m max_interval \u001b[38;5;241m=\u001b[39m y_test_predicted \u001b[38;5;241m+\u001b[39m interval\n",
      "\u001b[1;31mNameError\u001b[0m: name 'resid_std' is not defined"
     ]
    }
   ],
   "source": [
    "from prepare import DataPreparation\n",
    "from additif import Additif\n",
    "from sklearn.linear_model import LinearRegression\n",
    "import matplotlib.pyplot as plt\n",
    "import numpy as np\n",
    "import pandas as pd\n",
    "import seaborn as sns\n",
    "import scipy.stats as st\n",
    "import statsmodels.api as sm\n",
    "from math import *\n",
    "\n",
    "\n",
    "\n",
    "dataset_df = pd.read_csv('vente_maillots_de_bain.csv', encoding='ISO-8859-1')\n",
    "data_preparation_object = DataPreparation(dataset_df)\n",
    "Additif_object = Additif(data_preparation_object)"
   ]
  }
 ],
 "metadata": {
  "kernelspec": {
   "display_name": "Python 3",
   "language": "python",
   "name": "python3"
  },
  "language_info": {
   "codemirror_mode": {
    "name": "ipython",
    "version": 3
   },
   "file_extension": ".py",
   "mimetype": "text/x-python",
   "name": "python",
   "nbconvert_exporter": "python",
   "pygments_lexer": "ipython3",
   "version": "3.11.7"
  }
 },
 "nbformat": 4,
 "nbformat_minor": 2
}
